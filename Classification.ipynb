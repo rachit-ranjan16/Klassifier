{
 "cells": [
  {
   "cell_type": "markdown",
   "metadata": {},
   "source": [
    "# Classification\n",
    "\n",
    "### Group 8\n",
    "- Rachit Ranjan \n",
    "- Jun Deng\n",
    "- Zhitao Liu\n",
    "- Pu Fang \n",
    "- Ashutosh "
   ]
  },
  {
   "cell_type": "markdown",
   "metadata": {},
   "source": [
    "### Imports"
   ]
  },
  {
   "cell_type": "code",
   "execution_count": 29,
   "metadata": {},
   "outputs": [],
   "source": [
    "import scipy.io as scio\n",
    "import matplotlib.pyplot as plt\n",
    "import numpy as np\n",
    "import random\n",
    "from warnings import filterwarnings\n",
    "from datetime import datetime\n",
    "from sklearn.svm import SVC \n",
    "from sklearn.model_selection import train_test_split, KFold, GridSearchCV\n",
    "from sklearn.gaussian_process import GaussianProcessClassifier\n",
    "from sklearn.gaussian_process.kernels import RBF\n",
    "from skbayes.rvm_ard_models import RVC\n",
    "from sklearn.metrics import confusion_matrix, accuracy_score, precision_score\n",
    "filterwarnings(\"ignore\")"
   ]
  },
  {
   "cell_type": "markdown",
   "metadata": {},
   "source": [
    "### Load Data"
   ]
  },
  {
   "cell_type": "code",
   "execution_count": 16,
   "metadata": {},
   "outputs": [
    {
     "name": "stdout",
     "output_type": "stream",
     "text": [
      "(25000, 60) (25000, 5)\n"
     ]
    }
   ],
   "source": [
    "# Paste .mat files in the same directory and modify the names here \n",
    "\n",
    "# Location + Name of .mat file containing Training Data \n",
    "train_data_loc = 'Proj2FeatVecsSet1.mat' \n",
    "# Location + Name of .mat file containing Output Labels\n",
    "output_data_loc = 'Proj2TargetOutputsSet1.mat'\n",
    "\n",
    "train_data = scio.loadmat(train_data_loc)[train_data_loc.split('.')[0]]\n",
    "output_labels = scio.loadmat(output_data_loc)[output_data_loc.split('.')[0]]\n",
    "\n",
    "print(train_data.shape, output_labels.shape)"
   ]
  },
  {
   "cell_type": "markdown",
   "metadata": {},
   "source": [
    "### Data Preprocessing\n",
    "- Encoding Output Labels to single value \n",
    "- Adding Unknown Class Data and Label"
   ]
  },
  {
   "cell_type": "code",
   "execution_count": 17,
   "metadata": {},
   "outputs": [],
   "source": [
    "def encode_output_labels(output_labels=output_labels):\n",
    "    \"Encodes output labels to a single value\"\n",
    "    out_labels = []\n",
    "    for row in output_labels:\n",
    "        out_labels.append(np.where(row == 1)[0][0])\n",
    "    return np.array(out_labels)\n",
    "\n",
    "def generate_unknown_class_data(entries=10000):\n",
    "    \"Returns Data and Output Labels for Unknown Class(Nc+1)\"\n",
    "    unknown_class_data = []\n",
    "    for i in range(entries):\n",
    "        rand = []\n",
    "        for j in range(train_data.shape[1]):\n",
    "            rand.append(random.random())\n",
    "        unknown_class_data.append(rand)\n",
    "    unknown_class_label = np.full((10000), 5, dtype=int)\n",
    "    return np.array(unknown_class_data), unknown_class_label"
   ]
  },
  {
   "cell_type": "code",
   "execution_count": 18,
   "metadata": {},
   "outputs": [
    {
     "name": "stdout",
     "output_type": "stream",
     "text": [
      "(35000, 60) (35000,)\n"
     ]
    }
   ],
   "source": [
    "# Encode Output Lables to a single value\n",
    "out_labels = encode_output_labels(output_labels=output_labels)\n",
    "\n",
    "# Generate Data for Training Unknown Class Nc+1\n",
    "unknown_class_data, unknown_class_labels = generate_unknown_class_data(entries=10000)\n",
    "\n",
    "# Merge Actual and Generated Class Nc+1 Training Data and\n",
    "train_data = np.concatenate((train_data, unknown_class_data))\n",
    "out_labels = np.concatenate((out_labels, unknown_class_labels))\n",
    "\n",
    "print(train_data.shape, out_labels.shape)"
   ]
  },
  {
   "cell_type": "markdown",
   "metadata": {},
   "source": [
    "### Classification Algorithms"
   ]
  },
  {
   "cell_type": "code",
   "execution_count": 19,
   "metadata": {},
   "outputs": [],
   "source": [
    "# Default train and test sets \n",
    "x_train_def, x_test_def, y_train_def, y_test_def = train_test_split(train_data, out_labels,\n",
    "                                                                   test_size=0.33,\n",
    "                                                                   shuffle=True)\n",
    "x_train_def = x_train_def[:1000]\n",
    "x_test_def = x_test_def[:1000]\n",
    "y_train_def = y_train_def[:1000]\n",
    "y_test_def = y_test_def[:1000]\n",
    "\n",
    "\n",
    "\n",
    "\n",
    "def svm_classify(x_train=x_train_def,y_train=y_train_def,\n",
    "                 x_test=x_test_def, y_test=y_test_def,\n",
    "                 kernel='rbf',gamma='auto', probability=True, decision_function_shape='ovr', degree=3,\n",
    "                 tol=1e-3):\n",
    "    \"\"\"Trains a Support Vector Machine Classifer\"\"\"\n",
    "    # Create Model with passed hyperparameters\n",
    "    svc = SVC(kernel=kernel,\n",
    "              gamma=gamma,\n",
    "              degree=degree, # Ignored unless a polynomial kernel function is used\n",
    "              probability=probability,\n",
    "              decision_function_shape=decision_function_shape,\n",
    "              tol=tol,\n",
    "              random_state=42)\n",
    "    \n",
    "    # Train Model \n",
    "    svc.fit(x_train,y_train)\n",
    "    \n",
    "    # Return Trained Model and Accuracy on Test Data\n",
    "    return svc, svc.score(x_test,y_test), \n",
    "\n",
    "\n",
    "\n",
    "def rvm_classify(x_train=x_train_def,y_train=y_train_def,\n",
    "                 x_test=x_test_def, y_test=y_test_def,\n",
    "                 kernel='rbf', degree=3,n_iter=100,tol=0.001):\n",
    "    \"\"\"Trains a Relevance Vector Machine Classifier\"\"\"\n",
    "    \n",
    "    rvm = RVC(kernel=kernel,\n",
    "              degree=degree,\n",
    "              n_iter=n_iter,\n",
    "              tol=tol)\n",
    "    \n",
    "    # Train Model \n",
    "    rvm.fit(x_train,y_train)\n",
    "    \n",
    "    # Return Trained Model and Accuracy on Test Data\n",
    "    return rvm, (rvm.predict(x_test) == y_test).sum()/100.0\n",
    "\n",
    "\n",
    "\n",
    "def gp_classify(x_train=x_train_def,y_train=y_train_def,\n",
    "                x_test=x_test_def, y_test=y_test_def,\n",
    "                kernel=1.0 * RBF(1.0), optimizer='fmin_l_bfgs_b',\n",
    "                n_restarts_optimizer=0, max_iter_predict=100,\n",
    "                warm_start=True,multi_class='one_vs_one'):\n",
    "    \"\"\"Trains a Gaussian Process Classifier\"\"\"\n",
    "    \n",
    "    gpc = GaussianProcessClassifier(kernel=kernel,\n",
    "                                   optimizer=optimizer,\n",
    "                                   n_restarts_optimizer=n_restarts_optimizer,\n",
    "                                   max_iter_predict=max_iter_predict,\n",
    "                                   warm_start=warm_start,\n",
    "                                   multi_class=multi_class,\n",
    "                                   n_jobs=-1)\n",
    "    \n",
    "    # Train Model \n",
    "    gpc.fit(x_train, y_train)\n",
    "\n",
    "    # Return Trained Model and Accuracy on Test Data\n",
    "    return gpc, gpc.score(x_test,y_test)\n",
    "\n"
   ]
  },
  {
   "cell_type": "markdown",
   "metadata": {},
   "source": [
    "## TrainMyClassifier "
   ]
  },
  {
   "cell_type": "code",
   "execution_count": null,
   "metadata": {},
   "outputs": [],
   "source": [
    "Parameters = {'Algorithm' : 'SVM'}\n",
    "def TrainMyClassifer(XEstimate, XValidate, Parameters):\n",
    "    # TODO Ashutosh fill this up \n",
    "    pass"
   ]
  },
  {
   "cell_type": "markdown",
   "metadata": {},
   "source": [
    "# Cross Validation \n",
    "### K Fold Separation"
   ]
  },
  {
   "cell_type": "code",
   "execution_count": 22,
   "metadata": {},
   "outputs": [
    {
     "name": "stdout",
     "output_type": "stream",
     "text": [
      "(5, 800, 60) (5, 200, 60) (5, 800) (5, 200)\n",
      "(1000, 60) (1000,)\n"
     ]
    }
   ],
   "source": [
    "#Funtion K_Fold_Seperation(Xtrain,Ytrain,Nf)\n",
    "#    Use K_Fold to seperate the training set into Nf parts, take Nf-1 parts as Estimation set\n",
    "#    Take the remaining 1 as Validation set\n",
    "#    Inputs:\n",
    "#           Xtrain: Training Dataset Feature Vectors\n",
    "#           Ytrain: Training Dataset Label Vectors\n",
    "#           Nf:     Number of Folds for K_Fold Cross Validation\n",
    "#    Outputs:\n",
    "#           x_est_def: Estimation Sets Feature Vectors, Size = 5\n",
    "#           x_val_def: Validation Sets Feature Vectors, Size = 5\n",
    "#           y_est_def: Estimation Sets Label Vectors, Size = 5\n",
    "#           y_val_def: Validation Sets Label Vectors, Size = 5\n",
    "def K_Fold_Seperation(Xtrain=x_train_def,Ytrain=y_train_def,Nf=5):\n",
    "    \"Separate the Training Data into Nf Folds and Generate Estimation and Validation Sets\"\n",
    "    x_est_def = []\n",
    "    x_val_def = []\n",
    "    y_est_def = []\n",
    "    y_val_def = []\n",
    "\n",
    "    kf = KFold(n_splits=Nf)\n",
    "    for train,test in kf.split(Xtrain):\n",
    "        x_est_def.append(Xtrain[train])\n",
    "        x_val_def.append(Xtrain[test])\n",
    "        y_est_def.append(Ytrain[train])\n",
    "        y_val_def.append(Ytrain[test])\n",
    "\n",
    "    x_est_def = np.array(x_est_def)\n",
    "    x_val_def = np.array(x_val_def)\n",
    "    y_est_def = np.array(y_est_def)\n",
    "    y_val_def = np.array(y_val_def)\n",
    "    return x_est_def, x_val_def, y_est_def, y_val_def\n",
    "\n",
    "\n",
    "# Apply K_Fold to Training Dataset Feature & Label Vectors\n",
    "# Get Estimation Sets and Validation Sets\n",
    "x_est_def, x_val_def, y_est_def, y_val_def = K_Fold_Seperation()\n",
    "print(x_est_def.shape, x_val_def.shape, y_est_def.shape, y_val_def.shape)\n",
    "print(x_test_def.shape, y_test_def.shape)\n",
    "\n"
   ]
  },
  {
   "cell_type": "markdown",
   "metadata": {},
   "source": [
    "### Cross Validation Functions for all Classification Algorithms"
   ]
  },
  {
   "cell_type": "code",
   "execution_count": 26,
   "metadata": {},
   "outputs": [],
   "source": [
    "#Funtion svm_cv,rvm_cv, and gp_cv(x_train, y_train, algorithm_parameters, Nf)\n",
    "#    Use GridSearchCV and Cross Validation to Find the Best Fitted Model of Each Algorithm\n",
    "#    The Returned Model Contains EstParameters\n",
    "#    Inputs:\n",
    "#           Xtrain: Training Dataset Feature Vectors\n",
    "#           Ytrain: Training Dataset Label Vectors\n",
    "#           algorithm_parameters: Candidate Parameters for Each Algorithm\n",
    "#           Nf:     Number of Folds for K_Fold Cross Validation\n",
    "#    Outputs:\n",
    "#           cvsvm: Best Fitted Model of SVM\n",
    "#           cvrvm: Best Fitted Model of RVM\n",
    "#           cvgpc: Best Fitted Model of GPR\n",
    "\n",
    "# Define parameter candidates to get the optimal SVM model\n",
    "# svm_parameters = {'kernel':('linear', 'poly', 'rbf'), 'gamma':[0.125, 0.5, 1, 4], 'decision_function_shape':['ovo','ovr'],\n",
    "#                  'tol':[1e-3, 5e-3, 1e-2]}\n",
    "svm_parameters = {'gamma':[0.25, 1, 4], 'tol':[0.001,0.005]}\n",
    "def svm_cv(x_train, y_train,\n",
    "                 svm_parameters, Nf):\n",
    "    \"\"\"Trains a Support Vector Machine Classifer\"\"\"\n",
    "    # Create Model with passed hyperparameters\n",
    "    svc = SVC()\n",
    "    cvsvm = GridSearchCV(svc, svm_parameters, cv=Nf)\n",
    "    \n",
    "    # Train Model \n",
    "    cvsvm.fit(x_train,y_train)\n",
    "    \n",
    "    # Return Trained Model and Accuracy on Test Data\n",
    "    return cvsvm\n",
    "\n",
    "# Define parameter candidates to get the optimal RVM model\n",
    "# rvm_parameters = {'kernel':('linear', 'poly', 'rbf'), 'degree':[2, 3], 'n_iter':[100, 200], 'tol':[0.001,0.005]}\n",
    "rvm_parameters = {'kernel':('linear', 'poly', 'rbf'), 'tol':[0.001,0.005]}\n",
    "def rvm_cv(x_train,y_train,\n",
    "                 rvm_parameters, Nf):\n",
    "    \"\"\"Trains a Relevance Vector Machine Classifier\"\"\"\n",
    "    \n",
    "    rvm = RVC()\n",
    "    cvrvm = GridSearchCV(rvm, rvm_parameters, cv=Nf)\n",
    "    \n",
    "    # Train Model \n",
    "    cvrvm.fit(x_train,y_train)    \n",
    "    \n",
    "    # Return Trained Model and Accuracy on Test Data\n",
    "    return cvrvm\n",
    "\n",
    "# Define parameter candidates to get the optimal GPR model\n",
    "# gp_parameters = {'n_restarts_optimizer':[0,1], 'max_iter_predict':[50, 100], 'warm_start':('True','False'),\n",
    "#                'multi_class':('one_vs_rest','one_vs_one')}\n",
    "gp_parameters = {'n_restarts_optimizer':[0,2], 'max_iter_predict':[50, 100]}\n",
    "def gp_cv(x_train,y_train,\n",
    "                gp_parameters, Nf):\n",
    "    \"\"\"Trains a Gaussian Process Classifier\"\"\"\n",
    "    \n",
    "    gpc = GaussianProcessClassifier()\n",
    "    cvgpc = GridSearchCV(gpc, gp_parameters, cv=Nf)\n",
    "    \n",
    "    # Train Model \n",
    "    cvgpc.fit(x_train, y_train)\n",
    "\n",
    "    # Return Trained Model and Accuracy on Test Data\n",
    "    return cvgpc"
   ]
  },
  {
   "cell_type": "markdown",
   "metadata": {},
   "source": [
    "## MyCrossValidate "
   ]
  },
  {
   "cell_type": "code",
   "execution_count": 27,
   "metadata": {},
   "outputs": [],
   "source": [
    "#Funtion MyCrossValidate(XTrain, YTrain, Nf)\n",
    "#    Use cross validation to get the optimal parameters and hyper-parameters\n",
    "#    Use the trained model to get confusion-matrix of each validation set\n",
    "#    And the confusion-matrix for the whole training set\n",
    "#    Return Ytrain, EstParameters, EstConfMatrices, and ConfMatrix\n",
    "#    Inputs:\n",
    "#           Xtrain: Training Dataset Feature Vectors\n",
    "#           Ytrain: Training Dataset Label Vectors\n",
    "#           Nf:     Number of Folds for K_Fold Cross Validation\n",
    "#    Outputs:\n",
    "#           SVMY_Pred,RVMY_Pred,GPY_Pred: Class labels for each fold, corresponds to Ytrain\n",
    "#           cvsvm.best_params_,cvrvm.best_params_,cvgpc.best_params_: Best Parameters, corresponds to EstParameters\n",
    "#           SVMEstConfMat,RVMEstConfMat,GPEstConfMat: Confusion Matrices for each fold, corresponds to EstConfMatrices\n",
    "#           SVMConfMatrix,RVMConfMatrix,GPConfMatrix: Overall Confusion Matrix, corresponds to ConfMatrix\n",
    "def MyCrossValidate(XTrain, YTrain, Nf):\n",
    "    cvsvm = svm_cv(XTrain, YTrain, svm_parameters, Nf)\n",
    "    cvrvm = rvm_cv(XTrain, YTrain, rvm_parameters, Nf)\n",
    "    cvgpc = gp_cv(XTrain, YTrain, gp_parameters, Nf)\n",
    "    \n",
    "    SVMEstConfMat = []\n",
    "    SVMY_Pred = []\n",
    "    RVMEstConfMat = []\n",
    "    RVMY_Pred = []\n",
    "    GPEstConfMat = []\n",
    "    GPY_Pred = []\n",
    "    \n",
    "    # Best Models for SVM and RVM acquired through Cross Validation\n",
    "    bestsvm = cvsvm.best_estimator_\n",
    "    bestrvm = cvrvm.best_estimator_\n",
    "    \n",
    "    for i in range(x_val_def.shape[0]):\n",
    "        # For each validation sets, predict the labels and get its confusion matrix  \n",
    "        svmtemp_pred = cvsvm.predict(x_val_def[i])\n",
    "        svmtemp_conf = confusion_matrix(y_val_def[i], svmtemp_pred)\n",
    "        rvmtemp_pred = cvrvm.predict(x_val_def[i])\n",
    "        rvmtemp_conf = confusion_matrix(y_val_def[i], rvmtemp_pred)\n",
    "        gptemp_pred = cvgpc.predict(x_val_def[i])\n",
    "        gptemp_conf = confusion_matrix(y_val_def[i], gptemp_pred)\n",
    "        \n",
    "        bestsvm.fit(x_est_def[i],y_est_def[i])\n",
    "        bestsvm.predict(x_val_def[i])\n",
    "        print('The Shape of Support Vectors Array of SVM model for Fold %d is:' % i )\n",
    "        print(bestsvm.support_vectors_.shape)\n",
    "        \n",
    "        bestrvm.fit(x_est_def[i],y_est_def[i])\n",
    "        bestrvm.predict(x_val_def[i])\n",
    "        print('The Length of Relevance Vectors Array of RVM model for Fold %d is:' % i )\n",
    "        print(len(bestrvm.relevant_vectors_))\n",
    "\n",
    "        SVMEstConfMat.append(svmtemp_conf)\n",
    "        SVMY_Pred.append(svmtemp_pred)\n",
    "        RVMEstConfMat.append(rvmtemp_conf)\n",
    "        RVMY_Pred.append(rvmtemp_pred)\n",
    "        GPEstConfMat.append(gptemp_conf)\n",
    "        GPY_Pred.append(gptemp_pred)\n",
    "        \n",
    "    SVMEstConfMat = np.array(SVMEstConfMat)\n",
    "    SVMY_Pred = np.array(SVMY_Pred)\n",
    "    RVMEstConfMat = np.array(RVMEstConfMat)\n",
    "    RVMY_Pred = np.array(RVMY_Pred)\n",
    "    GPEstConfMat = np.array(GPEstConfMat)\n",
    "    GPY_Pred = np.array(GPY_Pred)\n",
    "    \n",
    "    YTrue = y_val_def.flatten()\n",
    "    SVM_All_pred = SVMY_Pred.flatten()    \n",
    "    SVMConfMatrix = confusion_matrix(YTrue, SVM_All_pred)\n",
    "    RVM_All_pred = RVMY_Pred.flatten()\n",
    "    RVMConfMatrix = confusion_matrix(YTrue, RVM_All_pred)\n",
    "    GP_All_pred = GPY_Pred.flatten()\n",
    "    GPConfMatrix = confusion_matrix(YTrue, GP_All_pred)\n",
    "    \n",
    "    return SVMY_Pred,RVMY_Pred,GPY_Pred,cvsvm.best_params_,cvrvm.best_params_,cvgpc.best_params_,\\\n",
    "SVMEstConfMat,RVMEstConfMat,GPEstConfMat,SVMConfMatrix,RVMConfMatrix,GPConfMatrix\n",
    "\n",
    "\n",
    "\n",
    "#Funtion Dis_CV_Info(SVM_best_params,RVM_best_params,GPR_best_params,\n",
    "#SVMEstConfMat,RVMEstConfMat,GPEstConfMat,SVMConfMatrix,RVMConfMatrix,GPConfMatrix)\n",
    "#    Display the info acquired through Cross Validation\n",
    "#    Display EstParameters, EstConfMatrices, and ConfMatrix\n",
    "#    Inputs:\n",
    "#           SVM_best_params,RVM_best_params,GPR_best_params: EstParameters of Each Algorithm\n",
    "#           SVMEstConfMat,RVMEstConfMat,GPEstConfMat: EstConfMatrices of Each Algorithm\n",
    "#           SVMConfMatrix,RVMConfMatrix,GPConfMatrix: ConfMatrix of Each Algorithm\n",
    "#    Outputs:\n",
    "#           None\n",
    "def Dis_CV_Info(SVM_best_params,RVM_best_params,GPR_best_params,\n",
    "SVMEstConfMat,RVMEstConfMat,GPEstConfMat,SVMConfMatrix,RVMConfMatrix,GPConfMatrix):\n",
    "    print('The parameters of the best SVM model are: ')\n",
    "    print(SVM_best_params)\n",
    "    print('The parameters of the best RVM model are: ')\n",
    "    print(RVM_best_params)\n",
    "    print('The parameters of the best GPR model are: ')\n",
    "    print(GPR_best_params)\n",
    "    \n",
    "    for i in range(x_val_def.shape[0]):\n",
    "        print('The Confusion Matrix For Fold %d is: ' % i)\n",
    "        print('SVM:')\n",
    "        print(SVMEstConfMat[i])\n",
    "        print('RVM:')\n",
    "        print(RVMEstConfMat[i])\n",
    "        print('GPR:')\n",
    "        print(GPEstConfMat[i])\n",
    "\n",
    "    print('The Overall Confusion Matrix is: ')\n",
    "    print('SVM:')\n",
    "    print(SVMConfMatrix)\n",
    "    print('RVM:')\n",
    "    print(RVMConfMatrix)\n",
    "    print('GPR:')\n",
    "    print(GPConfMatrix)\n",
    "    return 1\n"
   ]
  },
  {
   "cell_type": "markdown",
   "metadata": {},
   "source": [
    "### CV Test "
   ]
  },
  {
   "cell_type": "code",
   "execution_count": 30,
   "metadata": {},
   "outputs": [
    {
     "name": "stdout",
     "output_type": "stream",
     "text": [
      "The Shape of Support Vectors Array of SVM model for Fold 0 is:\n",
      "(565, 60)\n",
      "The Length of Relevance Vectors Array of RVM model for Fold 0 is:\n",
      "6\n",
      "The Shape of Support Vectors Array of SVM model for Fold 1 is:\n",
      "(567, 60)\n",
      "The Length of Relevance Vectors Array of RVM model for Fold 1 is:\n",
      "6\n",
      "The Shape of Support Vectors Array of SVM model for Fold 2 is:\n",
      "(568, 60)\n",
      "The Length of Relevance Vectors Array of RVM model for Fold 2 is:\n",
      "6\n",
      "The Shape of Support Vectors Array of SVM model for Fold 3 is:\n",
      "(562, 60)\n",
      "The Length of Relevance Vectors Array of RVM model for Fold 3 is:\n",
      "6\n",
      "The Shape of Support Vectors Array of SVM model for Fold 4 is:\n",
      "(582, 60)\n",
      "The Length of Relevance Vectors Array of RVM model for Fold 4 is:\n",
      "6\n"
     ]
    },
    {
     "ename": "NameError",
     "evalue": "name 'Dis_CV_Info' is not defined",
     "output_type": "error",
     "traceback": [
      "\u001b[1;31m---------------------------------------------------------------------------\u001b[0m",
      "\u001b[1;31mNameError\u001b[0m                                 Traceback (most recent call last)",
      "\u001b[1;32m<ipython-input-30-f1381c35cf37>\u001b[0m in \u001b[0;36m<module>\u001b[1;34m()\u001b[0m\n\u001b[0;32m      7\u001b[0m \u001b[0mSVM_Y\u001b[0m\u001b[1;33m,\u001b[0m\u001b[0mRVM_Y\u001b[0m\u001b[1;33m,\u001b[0m\u001b[0mGPR_Y\u001b[0m\u001b[1;33m,\u001b[0m\u001b[0mSVM_best_params\u001b[0m\u001b[1;33m,\u001b[0m\u001b[0mRVM_best_params\u001b[0m\u001b[1;33m,\u001b[0m\u001b[0mGPR_best_params\u001b[0m\u001b[1;33m,\u001b[0m\u001b[0mSVMEstConfMat\u001b[0m\u001b[1;33m,\u001b[0m\u001b[0mRVMEstConfMat\u001b[0m\u001b[1;33m,\u001b[0m\u001b[0mGPEstConfMat\u001b[0m\u001b[1;33m,\u001b[0m\u001b[0mSVMConfMatrix\u001b[0m\u001b[1;33m,\u001b[0m\u001b[0mRVMConfMatrix\u001b[0m\u001b[1;33m,\u001b[0m\u001b[0mGPConfMatrix\u001b[0m\u001b[1;33m=\u001b[0m \u001b[0mMyCrossValidate\u001b[0m\u001b[1;33m(\u001b[0m\u001b[0mx_train_def\u001b[0m\u001b[1;33m,\u001b[0m \u001b[0my_train_def\u001b[0m\u001b[1;33m,\u001b[0m \u001b[1;36m5\u001b[0m\u001b[1;33m)\u001b[0m\u001b[1;33m\u001b[0m\u001b[0m\n\u001b[0;32m      8\u001b[0m \u001b[1;33m\u001b[0m\u001b[0m\n\u001b[1;32m----> 9\u001b[1;33m Dis_CV_Info(SVM_best_params,RVM_best_params,GPR_best_params,\n\u001b[0m\u001b[0;32m     10\u001b[0m SVMEstConfMat,RVMEstConfMat,GPEstConfMat,SVMConfMatrix,RVMConfMatrix,GPConfMatrix)\n\u001b[0;32m     11\u001b[0m \u001b[0mend\u001b[0m \u001b[1;33m=\u001b[0m \u001b[0mdatetime\u001b[0m\u001b[1;33m.\u001b[0m\u001b[0mnow\u001b[0m\u001b[1;33m(\u001b[0m\u001b[1;33m)\u001b[0m\u001b[1;33m\u001b[0m\u001b[0m\n",
      "\u001b[1;31mNameError\u001b[0m: name 'Dis_CV_Info' is not defined"
     ]
    }
   ],
   "source": [
    "# SVM_Y,RVM_Y,GPR_Y corresponds to Ytrain\n",
    "# SVM_best_params,RVM_best_params,GPR_best_params corresponds to EstParameters\n",
    "# SVMEstConfMat,RVMEstConfMat,GPEstConfMat corresponds to EstConfMatrices\n",
    "# SVMConfMatrix,RVMConfMatrix,GPConfMatrix corresponds to ConfMatrix\n",
    "# Calculate and display the time taken for cross validation\n",
    "start = datetime.now()\n",
    "SVM_Y,RVM_Y,GPR_Y,SVM_best_params,RVM_best_params,GPR_best_params,\\\n",
    "SVMEstConfMat,RVMEstConfMat,GPEstConfMat,SVMConfMatrix,RVMConfMatrix,GPConfMatrix\\\n",
    "= MyCrossValidate(x_train_def, y_train_def, 5)\n",
    "\n",
    "Dis_CV_Info(SVM_best_params,RVM_best_params,GPR_best_params,\n",
    "SVMEstConfMat,RVMEstConfMat,GPEstConfMat,SVMConfMatrix,RVMConfMatrix,GPConfMatrix)\n",
    "end = datetime.now()\n",
    "print('Time for Cross Validation: %r' %(end-start))"
   ]
  },
  {
   "cell_type": "markdown",
   "metadata": {},
   "source": [
    "## TestMyClassifier"
   ]
  },
  {
   "cell_type": "code",
   "execution_count": null,
   "metadata": {},
   "outputs": [],
   "source": [
    "def TestMyClassifier(x_test, model):\n",
    "    \"\"\"Load a Classifer and Return Predictions\"\"\"\n",
    "    return model.predict(x_test) "
   ]
  },
  {
   "cell_type": "markdown",
   "metadata": {},
   "source": [
    "## ConfusionMatrix"
   ]
  },
  {
   "cell_type": "code",
   "execution_count": 1,
   "metadata": {},
   "outputs": [],
   "source": [
    "def ConfusionMatrix(Y, ClassNames): \n",
    "    \"\"\"Prints out a Confusion Matrix between true and predicted labels\n",
    "         Y             Actual Labels \n",
    "         ClassNames    Predicted Labels\"\"\" \n",
    "    con_mat=confusion_matrix(y_true=Y,y_pred=ClassNames)\n",
    "    overall_accuracy=accuracy_score(y_true=Y,y_pred=ClassNames)\n",
    "    acc_each_class=precision_score(y_true=Y,y_pred=ClassNames,average=None)\n",
    "    average_accuracy=np.mean(acc_each_class)\n",
    "    \n",
    "    print(\"Confusion Matrix\\n %r\" % con_mat)\n",
    "    print(\"Overall Accuracy: %.5f\\nAverage Overall Accuracy\" % (overall_accuracy, average_accuracy))\n",
    "    print(\"Accuracy of Each Class\\n\" % acc_each_class)"
   ]
  },
  {
   "cell_type": "code",
   "execution_count": null,
   "metadata": {},
   "outputs": [],
   "source": [
    "    "
   ]
  }
 ],
 "metadata": {
  "kernelspec": {
   "display_name": "Python 3",
   "language": "python",
   "name": "python3"
  },
  "language_info": {
   "codemirror_mode": {
    "name": "ipython",
    "version": 3
   },
   "file_extension": ".py",
   "mimetype": "text/x-python",
   "name": "python",
   "nbconvert_exporter": "python",
   "pygments_lexer": "ipython3",
   "version": "3.6.3"
  }
 },
 "nbformat": 4,
 "nbformat_minor": 2
}

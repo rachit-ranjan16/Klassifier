{
 "cells": [
  {
   "cell_type": "markdown",
   "metadata": {},
   "source": [
    "# Classification\n",
    "\n",
    "### Group 8\n",
    "- Rachit Ranjan \n",
    "- Jun Deng\n",
    "- Zhitao Liu\n",
    "- Pu Fang \n",
    "- Ashutosh "
   ]
  },
  {
   "cell_type": "markdown",
   "metadata": {},
   "source": [
    "### Imports"
   ]
  },
  {
   "cell_type": "code",
   "execution_count": 132,
   "metadata": {},
   "outputs": [],
   "source": [
    "import scipy.io as scio\n",
    "import matplotlib.pyplot as plt\n",
    "import numpy as np\n",
    "from sklearn.svm import SVC \n",
    "from sklearn.model_selection import train_test_split\n",
    "from sklearn.gaussian_process import GaussianProcessClassifier\n",
    "from sklearn.gaussian_process.kernels import RBF\n",
    "from skrvm import RVC"
   ]
  },
  {
   "cell_type": "code",
   "execution_count": 96,
   "metadata": {},
   "outputs": [],
   "source": [
    "train_data = scio.loadmat('Proj2FeatVecsSet1.mat')['Proj2FeatVecsSet1']\n",
    "output_labels = scio.loadmat('Proj2TargetOutputsSet1.mat')['Proj2TargetOutputsSet1']"
   ]
  },
  {
   "cell_type": "code",
   "execution_count": 41,
   "metadata": {},
   "outputs": [
    {
     "name": "stdout",
     "output_type": "stream",
     "text": [
      "(25000, 60) (25000, 5)\n"
     ]
    }
   ],
   "source": [
    "print(train_data.shape, output_labels.shape)"
   ]
  },
  {
   "cell_type": "markdown",
   "metadata": {},
   "source": [
    "### Data Preprocessing\n",
    "- One Hot Encoding \n",
    "- Adding Unknown Class Label"
   ]
  },
  {
   "cell_type": "code",
   "execution_count": 97,
   "metadata": {},
   "outputs": [],
   "source": [
    "# for row in output_labels:\n",
    "#     row += 1 \n",
    "#     row //= 2\n",
    "out_labels = []\n",
    "for row in output_labels:\n",
    "    out_labels.append(np.where(row == 1)[0][0])\n",
    "out_labels = np.array(out_labels)"
   ]
  },
  {
   "cell_type": "code",
   "execution_count": 98,
   "metadata": {},
   "outputs": [
    {
     "data": {
      "text/plain": [
       "4"
      ]
     },
     "execution_count": 98,
     "metadata": {},
     "output_type": "execute_result"
    }
   ],
   "source": [
    "out_labels[23000]"
   ]
  },
  {
   "cell_type": "markdown",
   "metadata": {},
   "source": [
    "### Classification Algorithms"
   ]
  },
  {
   "cell_type": "code",
   "execution_count": null,
   "metadata": {},
   "outputs": [],
   "source": [
    "# Default train and test sets \n",
    "x_train_def, x_test_def, y_train_def, y_test_def = train_test_split(train_data, out_labels,\n",
    "                                                                   test_size=0.33,\n",
    "                                                                   shuffle=True)\n",
    "x_train_def = x_train_def[:1000]\n",
    "x_test_def = x_test_def[:1000]\n",
    "y_train_def = y_train_def[:1000]\n",
    "y_test_def = y_test_def[:1000]\n",
    "\n",
    "\n",
    "# Support Vector Machines\n",
    "def svm_classify(x_train=x_train_def,y_train=y_train_def,\n",
    "                 x_test=x_test_def, y_test=y_test_def,\n",
    "                 kernel='rbf',gamma='auto', probability=True, decision_function_shape='ovr', degree=3,\n",
    "                 tol=1e-3):\n",
    "    \"\"\"Trains a SVM Classifer\"\"\"\n",
    "    svc = SVC(kernel=kernel,\n",
    "              gamma=gamma,\n",
    "              degree=degree, # Ignored unless a polynomial kernel function is used\n",
    "              probability=probability,\n",
    "              decision_function_shape=decision_function_shape,\n",
    "              tol=tol,\n",
    "              random_state=42)\n",
    "\n",
    "    svc.fit(x_train,y_train)\n",
    "#     print(svc.predict(x_test[3].reshape(1,-1)), y_test[3])\n",
    "    return svc, svc.score(x_test,y_test), \n",
    "\n",
    "def rvm_classify(x_train=x_train_def,y_train=y_train_def,\n",
    "                 x_test=x_test_def, y_test=y_test_def,\n",
    "                 alpha=1e-03, beta=1e-03, beta_fixed=False, bias_used=True,\n",
    "                 degree=3, kernel='rbf', n_iter=100, n_iter_posterior=25,\n",
    "                 threshold_alpha=1000000000.0, tol=0.001):\n",
    "    \"\"\"Trains a RVM Classifier\"\"\"\n",
    "    # TODO Needs to be Fixed. Find a different library? \n",
    "    # TODO @Ashutosh Get this in place \n",
    "    rvm = RVC(kernel=kernel,\n",
    "              alpha=alpha,\n",
    "              beta=beta,\n",
    "              beta_fixed=beta_fixed,\n",
    "              bias_used=True, \n",
    "              degree=degree,\n",
    "              n_iter=n_iter,\n",
    "              n_iter_posterior=n_iter_posterior,\n",
    "              threshold_alpha=threshold_alpha,\n",
    "              tol=tol\n",
    "             )\n",
    "    rvm.fit(x_train, y_train)\n",
    "    print(svc.predict(x_test[3].reshape(1,-1)), y_test[3])\n",
    "    return rvm, rvm.score(x_test,y_test)\n",
    "\n",
    "# print(rvm_classify()[1])\n",
    "\n",
    "def gp_classify(x_train=x_train_def,y_train=y_train_def,\n",
    "                x_test=x_test_def, y_test=y_test_def,\n",
    "                kernel=1.0 * RBF(1.0), optimizer='fmin_l_bfgs_b',\n",
    "                n_restarts_optimizer=0, max_iter_predict=100,\n",
    "                warm_start=True,multi_class='one_vs_one'):\n",
    "    \"\"\"Trains a Gaussian Process Classifier\"\"\"\n",
    "    \n",
    "    gpc = GaussianProcessClassifier(kernel=kernel,\n",
    "                                   optimizer=optimizer,\n",
    "                                   n_restarts_optimizer=n_restarts_optimizer,\n",
    "                                   max_iter_predict=max_iter_predict,\n",
    "                                   warm_start=warm_start,\n",
    "                                   multi_class=multi_class,\n",
    "                                   n_jobs=-1)\n",
    "    gpc.fit(x_train, y_train)\n",
    "    print(gpc.predict(x_test[3].reshape(1,-1)), y_test[3])\n",
    "    return gpc, gpc.score(x_test,y_test)\n",
    "\n",
    "print(gp_classify()[1])"
   ]
  },
  {
   "cell_type": "markdown",
   "metadata": {},
   "source": [
    "## TrainMyClassifer"
   ]
  },
  {
   "cell_type": "code",
   "execution_count": 120,
   "metadata": {},
   "outputs": [
    {
     "name": "stdout",
     "output_type": "stream",
     "text": [
      "0.001\n"
     ]
    }
   ],
   "source": [
    "def TrainMyClassifer()"
   ]
  },
  {
   "cell_type": "code",
   "execution_count": null,
   "metadata": {},
   "outputs": [],
   "source": []
  },
  {
   "cell_type": "code",
   "execution_count": null,
   "metadata": {},
   "outputs": [],
   "source": []
  }
 ],
 "metadata": {
  "kernelspec": {
   "display_name": "Python 3",
   "language": "python",
   "name": "python3"
  },
  "language_info": {
   "codemirror_mode": {
    "name": "ipython",
    "version": 3
   },
   "file_extension": ".py",
   "mimetype": "text/x-python",
   "name": "python",
   "nbconvert_exporter": "python",
   "pygments_lexer": "ipython3",
   "version": "3.6.3"
  }
 },
 "nbformat": 4,
 "nbformat_minor": 2
}

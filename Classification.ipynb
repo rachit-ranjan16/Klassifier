{
 "cells": [
  {
   "cell_type": "markdown",
   "metadata": {},
   "source": [
    "# Classification\n",
    "\n",
    "### Group 8\n",
    "- Rachit Ranjan \n",
    "- Jun Deng\n",
    "- Zhitao Liu\n",
    "- Pu Fang \n",
    "- Ashutosh "
   ]
  },
  {
   "cell_type": "markdown",
   "metadata": {},
   "source": [
    "### Imports"
   ]
  },
  {
   "cell_type": "code",
   "execution_count": 34,
   "metadata": {},
   "outputs": [],
   "source": [
    "import scipy.io as scio\n",
    "import matplotlib.pyplot as plt\n",
    "import numpy as np\n",
    "import random\n",
    "from sklearn.svm import SVC \n",
    "from sklearn.model_selection import train_test_split\n",
    "from sklearn.gaussian_process import GaussianProcessClassifier\n",
    "from sklearn.gaussian_process.kernels import RBF\n",
    "from skbayes.rvm_ard_models import RVC"
   ]
  },
  {
   "cell_type": "code",
   "execution_count": 35,
   "metadata": {},
   "outputs": [],
   "source": [
    "train_data = scio.loadmat('Proj2FeatVecsSet1.mat')['Proj2FeatVecsSet1']\n",
    "output_labels = scio.loadmat('Proj2TargetOutputsSet1.mat')['Proj2TargetOutputsSet1']"
   ]
  },
  {
   "cell_type": "code",
   "execution_count": 36,
   "metadata": {},
   "outputs": [
    {
     "name": "stdout",
     "output_type": "stream",
     "text": [
      "(25000, 60) (25000, 5)\n"
     ]
    }
   ],
   "source": [
    "print(train_data.shape, output_labels.shape)"
   ]
  },
  {
   "cell_type": "markdown",
   "metadata": {},
   "source": [
    "### Data Preprocessing\n",
    "- One Hot Encoding \n",
    "- Adding Unknown Class Label"
   ]
  },
  {
   "cell_type": "code",
   "execution_count": 37,
   "metadata": {},
   "outputs": [],
   "source": [
    "def encode_output_labels(output_labels=output_labels):\n",
    "    \"Encodes output labels to a single value\"\n",
    "    out_labels = []\n",
    "    for row in output_labels:\n",
    "        out_labels.append(np.where(row == 1)[0][0])\n",
    "    return np.array(out_labels)\n",
    "\n",
    "def generate_unknown_class_data(entries=10000):\n",
    "    \"Returns Data and Output Labels for Unknown Class(Nc+1)\"\n",
    "    unknown_class_data = []\n",
    "    for i in range(entries):\n",
    "        rand = []\n",
    "        for j in range(train_data.shape[1]):\n",
    "            rand.append(random.random())\n",
    "        unknown_class_data.append(rand)\n",
    "    unknown_class_label = np.full((10000), 5, dtype=int)\n",
    "    return np.array(unknown_class_data), unknown_class_label"
   ]
  },
  {
   "cell_type": "code",
   "execution_count": 38,
   "metadata": {},
   "outputs": [
    {
     "name": "stdout",
     "output_type": "stream",
     "text": [
      "(35000, 60) (35000,)\n"
     ]
    }
   ],
   "source": [
    "# Encode Output Lables to a single value\n",
    "out_labels = encode_output_labels(output_labels=output_labels)\n",
    "\n",
    "# Generate Data for Training Unknown Class Nc+1\n",
    "unknown_class_data, unknown_class_labels = generate_unknown_class_data(entries=10000)\n",
    "\n",
    "# Merge Actual and Generated Class Nc+1 Training Data and\n",
    "train_data = np.concatenate((train_data, unknown_class_data))\n",
    "out_labels = np.concatenate((out_labels, unknown_class_labels))\n",
    "\n",
    "print(train_data.shape, out_labels.shape)"
   ]
  },
  {
   "cell_type": "markdown",
   "metadata": {},
   "source": [
    "### Classification Algorithms"
   ]
  },
  {
   "cell_type": "code",
   "execution_count": 42,
   "metadata": {},
   "outputs": [],
   "source": [
    "# Default train and test sets \n",
    "x_train_def, x_test_def, y_train_def, y_test_def = train_test_split(train_data, out_labels,\n",
    "                                                                   test_size=0.33,\n",
    "                                                                   shuffle=True)\n",
    "x_train_def = x_train_def[:1000]\n",
    "x_test_def = x_test_def[:1000]\n",
    "y_train_def = y_train_def[:1000]\n",
    "y_test_def = y_test_def[:1000]\n",
    "\n",
    "\n",
    "\n",
    "\n",
    "def svm_classify(x_train=x_train_def,y_train=y_train_def,\n",
    "                 x_test=x_test_def, y_test=y_test_def,\n",
    "                 kernel='rbf',gamma='auto', probability=True, decision_function_shape='ovr', degree=3,\n",
    "                 tol=1e-3):\n",
    "    \"\"\"Trains a Support Vector Machine Classifer\"\"\"\n",
    "    # Create Model with passed hyperparameters\n",
    "    svc = SVC(kernel=kernel,\n",
    "              gamma=gamma,\n",
    "              degree=degree, # Ignored unless a polynomial kernel function is used\n",
    "              probability=probability,\n",
    "              decision_function_shape=decision_function_shape,\n",
    "              tol=tol,\n",
    "              random_state=42)\n",
    "    \n",
    "    # Train Model \n",
    "    svc.fit(x_train,y_train)\n",
    "    \n",
    "    # Return Trained Model and Accuracy on Test Data\n",
    "    return svc, svc.score(x_test,y_test), \n",
    "\n",
    "\n",
    "\n",
    "def rvm_classify(x_train=x_train_def,y_train=y_train_def,\n",
    "                 x_test=x_test_def, y_test=y_test_def,\n",
    "                 kernel='rbf', degree=3,n_iter=100,tol=0.001):\n",
    "    \"\"\"Trains a Relevance Vector Machine Classifier\"\"\"\n",
    "    \n",
    "    rvm = RVC(kernel=kernel,\n",
    "              degree=degree,\n",
    "              n_iter=n_iter,\n",
    "              tol=tol)\n",
    "    \n",
    "    # Train Model \n",
    "    rvm.fit(x_train,y_train)\n",
    "    \n",
    "    # Return Trained Model and Accuracy on Test Data\n",
    "    return rvm, (rvm.predict(x_test) == y_test).sum()/100.0\n",
    "\n",
    "\n",
    "\n",
    "def gp_classify(x_train=x_train_def,y_train=y_train_def,\n",
    "                x_test=x_test_def, y_test=y_test_def,\n",
    "                kernel=1.0 * RBF(1.0), optimizer='fmin_l_bfgs_b',\n",
    "                n_restarts_optimizer=0, max_iter_predict=100,\n",
    "                warm_start=True,multi_class='one_vs_one'):\n",
    "    \"\"\"Trains a Gaussian Process Classifier\"\"\"\n",
    "    \n",
    "    gpc = GaussianProcessClassifier(kernel=kernel,\n",
    "                                   optimizer=optimizer,\n",
    "                                   n_restarts_optimizer=n_restarts_optimizer,\n",
    "                                   max_iter_predict=max_iter_predict,\n",
    "                                   warm_start=warm_start,\n",
    "                                   multi_class=multi_class,\n",
    "                                   n_jobs=-1)\n",
    "    \n",
    "    # Train Model \n",
    "    gpc.fit(x_train, y_train)\n",
    "\n",
    "    # Return Trained Model and Accuracy on Test Data\n",
    "    return gpc, gpc.score(x_test,y_test)\n",
    "\n"
   ]
  },
  {
   "cell_type": "markdown",
   "metadata": {},
   "source": [
    "## TrainMyClassifer"
   ]
  },
  {
   "cell_type": "code",
   "execution_count": 77,
   "metadata": {},
   "outputs": [],
   "source": [
    "def TrainMyClassifer():\n",
    "    pass"
   ]
  },
  {
   "cell_type": "code",
   "execution_count": null,
   "metadata": {},
   "outputs": [],
   "source": []
  },
  {
   "cell_type": "code",
   "execution_count": null,
   "metadata": {},
   "outputs": [],
   "source": []
  },
  {
   "cell_type": "code",
   "execution_count": null,
   "metadata": {},
   "outputs": [],
   "source": []
  },
  {
   "cell_type": "code",
   "execution_count": null,
   "metadata": {},
   "outputs": [],
   "source": []
  },
  {
   "cell_type": "code",
   "execution_count": null,
   "metadata": {},
   "outputs": [],
   "source": []
  }
 ],
 "metadata": {
  "kernelspec": {
   "display_name": "Python 3",
   "language": "python",
   "name": "python3"
  },
  "language_info": {
   "codemirror_mode": {
    "name": "ipython",
    "version": 3
   },
   "file_extension": ".py",
   "mimetype": "text/x-python",
   "name": "python",
   "nbconvert_exporter": "python",
   "pygments_lexer": "ipython3",
   "version": "3.6.3"
  }
 },
 "nbformat": 4,
 "nbformat_minor": 2
}

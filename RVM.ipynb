{
 "cells": [
  {
   "cell_type": "code",
   "execution_count": 37,
   "metadata": {},
   "outputs": [],
   "source": [
    "import scipy.io as scio\n",
    "import matplotlib.pyplot as plt\n",
    "import numpy as np\n",
    "from sklearn.svm import SVC \n",
    "from sklearn.model_selection import train_test_split\n",
    "from sklearn.gaussian_process import GaussianProcessClassifier\n",
    "from sklearn.gaussian_process.kernels import RBF\n",
    "from skbayes.rvm_ard_models import RVC"
   ]
  },
  {
   "cell_type": "code",
   "execution_count": 38,
   "metadata": {},
   "outputs": [],
   "source": [
    "\n",
    "\n",
    "train_data = scio.loadmat('Proj2FeatVecsSet1.mat')['Proj2FeatVecsSet1']\n",
    "output_labels = scio.loadmat('Proj2TargetOutputsSet1.mat')['Proj2TargetOutputsSet1']\n",
    "\n"
   ]
  },
  {
   "cell_type": "code",
   "execution_count": 39,
   "metadata": {},
   "outputs": [
    {
     "name": "stdout",
     "output_type": "stream",
     "text": [
      "(25000, 60) (25000, 5)\n"
     ]
    }
   ],
   "source": [
    "print(train_data.shape, output_labels.shape)"
   ]
  },
  {
   "cell_type": "code",
   "execution_count": 40,
   "metadata": {},
   "outputs": [],
   "source": [
    "out_labels = []\n",
    "for row in output_labels:\n",
    "    out_labels.append(np.where(row == 1)[0][0])\n",
    "out_labels = np.array(out_labels)"
   ]
  },
  {
   "cell_type": "code",
   "execution_count": 41,
   "metadata": {},
   "outputs": [
    {
     "data": {
      "text/plain": [
       "4"
      ]
     },
     "execution_count": 41,
     "metadata": {},
     "output_type": "execute_result"
    }
   ],
   "source": [
    "out_labels[23000]"
   ]
  },
  {
   "cell_type": "code",
   "execution_count": 42,
   "metadata": {},
   "outputs": [
    {
     "ename": "SyntaxError",
     "evalue": "invalid syntax (<ipython-input-42-8f03b9f355eb>, line 20)",
     "output_type": "error",
     "traceback": [
      "\u001b[0;36m  File \u001b[0;32m\"<ipython-input-42-8f03b9f355eb>\"\u001b[0;36m, line \u001b[0;32m20\u001b[0m\n\u001b[0;31m    return rvm, rvm.score(x_test,y_test)\u001b[0m\n\u001b[0m         ^\u001b[0m\n\u001b[0;31mSyntaxError\u001b[0m\u001b[0;31m:\u001b[0m invalid syntax\n"
     ]
    }
   ],
   "source": [
    "x_train_def, x_test_def, y_train_def, y_test_def = train_test_split(train_data, out_labels,\n",
    "                                                                   test_size=0.33,\n",
    "                                                                   shuffle=True)\n",
    "#x_train_def = x_train_def[]\n",
    "#x_test_def = x_test_def[]\n",
    "#y_train_def = y_train_def[]\n",
    "#y_test_def = y_test_def[]\n",
    "\n",
    "def rvm_classify(x_train=x_train_def,y_train=y_train_def,\n",
    "                 x_test=x_test_def, y_test=y_test_def,\n",
    "                 alpha=1e-03, beta=1e-03, beta_fixed=False, bias_used=True,\n",
    "                 degree=3, kernel='rbf', n_iter=100, n_iter_posterior=25,\n",
    "                 threshold_alpha=1000000000.0, tol=0.001):\n",
    "    \"\"\"Trains a RVM Classifier\"\"\"\n",
    "    # TODO Needs to be Fixed. Find a different library? \n",
    "    # TODO @Ashutosh Get this in place \n",
    "    rvm = RVC()\n",
    "    rvm.fit(x_train, y_train)\n",
    "    print(rvm.predict_proba(x_test[2])\n",
    "    return rvm, rvm.score(x_test,y_test)"
   ]
  },
  {
   "cell_type": "code",
   "execution_count": 43,
   "metadata": {
    "scrolled": true
   },
   "outputs": [
    {
     "name": "stderr",
     "output_type": "stream",
     "text": [
      "/usr/local/lib/python3.5/dist-packages/sklearn/utils/validation.py:393: DeprecationWarning: Passing 'None' to parameter 'accept_sparse' in methods check_array and check_X_y is deprecated in version 0.19 and will be removed in 0.21. Use 'accept_sparse=False'  instead.\n",
      "  \" instead.\", DeprecationWarning)\n",
      "/usr/local/lib/python3.5/dist-packages/sklearn/utils/validation.py:393: DeprecationWarning: Passing 'None' to parameter 'accept_sparse' in methods check_array and check_X_y is deprecated in version 0.19 and will be removed in 0.21. Use 'accept_sparse=False'  instead.\n",
      "  \" instead.\", DeprecationWarning)\n",
      "/usr/local/lib/python3.5/dist-packages/skbayes/rvm_ard_models/fast_rvm.py:47: RuntimeWarning: invalid value encountered in log\n",
      "  deltaL[add]       = ( Qadd**2 - Sadd ) / Sadd + np.log(Sadd/Qadd**2 )\n",
      "/usr/local/lib/python3.5/dist-packages/skbayes/rvm_ard_models/fast_rvm.py:48: RuntimeWarning: invalid value encountered in log\n",
      "  deltaL[recompute] = Qrec**2 / (Srec + 1. / delta_alpha) - np.log(1 + Srec*delta_alpha)\n"
     ]
    },
    {
     "name": "stdout",
     "output_type": "stream",
     "text": [
      "[[0.07743619 0.92256381]\n",
      " [0.96542513 0.03457487]\n",
      " [0.99765287 0.00234713]\n",
      " [0.9580571  0.0419429 ]\n",
      " [0.99435043 0.00564957]]\n",
      "0\n"
     ]
    },
    {
     "name": "stderr",
     "output_type": "stream",
     "text": [
      "/usr/local/lib/python3.5/dist-packages/sklearn/utils/validation.py:393: DeprecationWarning: Passing 'None' to parameter 'accept_sparse' in methods check_array and check_X_y is deprecated in version 0.19 and will be removed in 0.21. Use 'accept_sparse=False'  instead.\n",
      "  \" instead.\", DeprecationWarning)\n",
      "/usr/local/lib/python3.5/dist-packages/sklearn/utils/validation.py:393: DeprecationWarning: Passing 'None' to parameter 'accept_sparse' in methods check_array and check_X_y is deprecated in version 0.19 and will be removed in 0.21. Use 'accept_sparse=False'  instead.\n",
      "  \" instead.\", DeprecationWarning)\n"
     ]
    },
    {
     "data": {
      "text/plain": [
       "(RVC(coef0=1, degree=2, fit_intercept=True, gamma=None, kernel='rbf',\n",
       "   kernel_params=None, n_iter=100, n_iter_solver=15, tol=0.0001,\n",
       "   tol_solver=0.0001, verbose=False), 0.748)"
      ]
     },
     "execution_count": 43,
     "metadata": {},
     "output_type": "execute_result"
    }
   ],
   "source": [
    "rvm_classify()"
   ]
  },
  {
   "cell_type": "code",
   "execution_count": null,
   "metadata": {},
   "outputs": [],
   "source": []
  }
 ],
 "metadata": {
  "kernelspec": {
   "display_name": "Python 3",
   "language": "python",
   "name": "python3"
  },
  "language_info": {
   "codemirror_mode": {
    "name": "ipython",
    "version": 3
   },
   "file_extension": ".py",
   "mimetype": "text/x-python",
   "name": "python",
   "nbconvert_exporter": "python",
   "pygments_lexer": "ipython3",
   "version": "3.5.2"
  }
 },
 "nbformat": 4,
 "nbformat_minor": 2
}

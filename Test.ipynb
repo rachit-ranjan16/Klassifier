{
 "cells": [
  {
   "cell_type": "markdown",
   "metadata": {},
   "source": [
    "### Imports"
   ]
  },
  {
   "cell_type": "code",
   "execution_count": 4,
   "metadata": {},
   "outputs": [],
   "source": [
    "import scipy.io as scio\n",
    "import numpy as np\n",
    "from sklearn.externals import joblib\n",
    "from sklearn.svm import SVC \n",
    "from sklearn.model_selection import train_test_split\n",
    "from sklearn.gaussian_process import GaussianProcessClassifier\n",
    "from sklearn.gaussian_process.kernels import RBF\n",
    "#from skrvm import RVC"
   ]
  },
  {
   "cell_type": "markdown",
   "metadata": {},
   "source": [
    "### Test Models"
   ]
  },
  {
   "cell_type": "code",
   "execution_count": 6,
   "metadata": {},
   "outputs": [],
   "source": [
    "# Support Vector Machines\n",
    "def svm_test(x_test, model_name):\n",
    "    \"\"\"Load a SVM Classifer\"\"\"\n",
    "    svc = joblib.load(model_name)\n",
    "    YTest = svc.predict(x_test)\n",
    "    return YTest \n",
    "\n",
    "def rvm_test(x_test, model_name):\n",
    "    \"\"\"Load a RVM Classifier\"\"\"\n",
    "    # TODO Needs to be Fixed. Find a different library? \n",
    "    # TODO @Ashutosh Get this in place \n",
    "    rvm = joblib.load(model_name)\n",
    "    YTest = rvm.predict(x_test)\n",
    "    return YTest \n",
    "\n",
    "def gp_classify(x_test, model_name):\n",
    "    \"\"\"Load a Gaussian Process Classifier\"\"\"\n",
    "    gpc = joblib.load(model_name)\n",
    "    YTest = gpc.predict(x_test)\n",
    "    return YTest \n"
   ]
  },
  {
   "cell_type": "markdown",
   "metadata": {},
   "source": [
    "#### test dump and load"
   ]
  },
  {
   "cell_type": "code",
   "execution_count": 15,
   "metadata": {},
   "outputs": [
    {
     "name": "stdout",
     "output_type": "stream",
     "text": [
      "0.764\n"
     ]
    },
    {
     "data": {
      "text/plain": [
       "['svc.pkl']"
      ]
     },
     "execution_count": 15,
     "metadata": {},
     "output_type": "execute_result"
    }
   ],
   "source": [
    "train_data = scio.loadmat('Proj2FeatVecsSet1.mat')['Proj2FeatVecsSet1']\n",
    "output_labels = scio.loadmat('Proj2TargetOutputsSet1.mat')['Proj2TargetOutputsSet1']\n",
    "out_labels = []\n",
    "for row in output_labels:\n",
    "    out_labels.append(np.where(row == 1)[0][0])\n",
    "out_labels = np.array(out_labels)\n",
    "x_train_def, x_test_def, y_train_def, y_test_def = train_test_split(train_data, out_labels,\n",
    "                                                                   test_size=0.33,\n",
    "                                                                   shuffle=True)\n",
    "x_train_def = x_train_def[:1000]\n",
    "x_test_def = x_test_def[:1000]\n",
    "y_train_def = y_train_def[:1000]\n",
    "y_test_def = y_test_def[:1000]\n",
    "\n",
    "svc = SVC(decision_function_shape=\"ovo\")\n",
    "svc.fit(x_train_def, y_train_def)\n",
    "print(svc.score(x_test_def, y_test_def))\n",
    "joblib.dump(svc, \"svc.pkl\")"
   ]
  },
  {
   "cell_type": "code",
   "execution_count": 16,
   "metadata": {},
   "outputs": [
    {
     "name": "stdout",
     "output_type": "stream",
     "text": [
      "0.764\n"
     ]
    }
   ],
   "source": [
    "test_model = joblib.load(\"svc.pkl\");\n",
    "print(test_model.score(x_test_def, y_test_def))"
   ]
  },
  {
   "cell_type": "code",
   "execution_count": 17,
   "metadata": {},
   "outputs": [
    {
     "name": "stdout",
     "output_type": "stream",
     "text": [
      "0.764\n"
     ]
    }
   ],
   "source": [
    "test_labels = svm_test(x_test_def, \"svc.pkl\")\n",
    "print(np.sum(test_labels==y_test_def)/1000)"
   ]
  },
  {
   "cell_type": "code",
   "execution_count": null,
   "metadata": {},
   "outputs": [],
   "source": []
  }
 ],
 "metadata": {
  "kernelspec": {
   "display_name": "Python 3",
   "language": "python",
   "name": "python3"
  },
  "language_info": {
   "codemirror_mode": {
    "name": "ipython",
    "version": 3
   },
   "file_extension": ".py",
   "mimetype": "text/x-python",
   "name": "python",
   "nbconvert_exporter": "python",
   "pygments_lexer": "ipython3",
   "version": "3.6.3"
  }
 },
 "nbformat": 4,
 "nbformat_minor": 2
}

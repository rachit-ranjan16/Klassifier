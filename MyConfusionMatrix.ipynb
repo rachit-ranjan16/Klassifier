{
 "cells": [
  {
   "cell_type": "code",
   "execution_count": null,
   "metadata": {
    "collapsed": true
   },
   "outputs": [],
   "source": [
    "from sklearn import metrics\n",
    "import numpy as np\n",
    "confusion_matrix=metrics.confusion_matrix(Y,ClassNames)\n",
    "overall_accuracy=metrics.accuracy_score(Y,ClassNames)\n",
    "acc_each_class=metrics.precision_score(Y,ClassNames,average=None)\n",
    "average_accuracy=np.mean(acc_each_class)\n",
    "print('Confusion matrix: \\n',confusion_matrix)\n",
    "print('Average accuracy: \\n',average_accuracy)"
   ]
  }
 ],
 "metadata": {
  "kernelspec": {
   "display_name": "Python 2",
   "language": "python",
   "name": "python2"
  },
  "language_info": {
   "codemirror_mode": {
    "name": "ipython",
    "version": 2
   },
   "file_extension": ".py",
   "mimetype": "text/x-python",
   "name": "python",
   "nbconvert_exporter": "python",
   "pygments_lexer": "ipython2",
   "version": "2.7.6"
  }
 },
 "nbformat": 4,
 "nbformat_minor": 0
}

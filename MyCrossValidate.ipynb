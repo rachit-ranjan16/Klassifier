{
 "cells": [
  {
   "cell_type": "code",
   "execution_count": 137,
   "metadata": {},
   "outputs": [],
   "source": [
    "import scipy.io as scio\n",
    "import matplotlib.pyplot as plt\n",
    "import numpy as np\n",
    "import random\n",
    "from sklearn.svm import SVC\n",
    "from sklearn.model_selection import train_test_split\n",
    "from sklearn.model_selection import KFold\n",
    "from sklearn.model_selection import GridSearchCV\n",
    "from sklearn.gaussian_process import GaussianProcessClassifier\n",
    "from sklearn.gaussian_process.kernels import RBF\n",
    "from sklearn.metrics import confusion_matrix\n",
    "from skbayes.rvm_ard_models import RVC"
   ]
  },
  {
   "cell_type": "code",
   "execution_count": 138,
   "metadata": {},
   "outputs": [
    {
     "name": "stdout",
     "output_type": "stream",
     "text": [
      "(25000, 60) (25000, 5)\n"
     ]
    }
   ],
   "source": [
    "train_data = scio.loadmat('Proj2FeatVecsSet1.mat')['Proj2FeatVecsSet1']\n",
    "output_labels = scio.loadmat('Proj2TargetOutputsSet1.mat')['Proj2TargetOutputsSet1']\n",
    "print(train_data.shape, output_labels.shape)"
   ]
  },
  {
   "cell_type": "code",
   "execution_count": 139,
   "metadata": {},
   "outputs": [],
   "source": [
    "def encode_output_labels(output_labels=output_labels):\n",
    "    \"Encodes output labels to a single value\"\n",
    "    out_labels = []\n",
    "    for row in output_labels:\n",
    "        out_labels.append(np.where(row == 1)[0][0])\n",
    "    return np.array(out_labels)\n",
    "\n",
    "def generate_unknown_class_data(entries=10000):\n",
    "    \"Returns Data and Output Labels for Unknown Class(Nc+1)\"\n",
    "    unknown_class_data = []\n",
    "    for i in range(entries):\n",
    "        rand = []\n",
    "        for j in range(train_data.shape[1]):\n",
    "            rand.append(random.random())\n",
    "        unknown_class_data.append(rand)\n",
    "    unknown_class_label = np.full((10000), 5, dtype=int)\n",
    "    return np.array(unknown_class_data), unknown_class_label\n",
    "\n",
    "def K_Fold_Seperation(Xtrain,Ytrain,Nf):\n",
    "    \"Separate the Training Data into Nf Folds and Generate Estimation and Validation Sets\"\n",
    "    x_est_def = []\n",
    "    x_val_def = []\n",
    "    y_est_def = []\n",
    "    y_val_def = []\n",
    "\n",
    "    kf = KFold(n_splits=Nf)\n",
    "    for train,test in kf.split(Xtrain):\n",
    "        x_est_def.append(Xtrain[train])\n",
    "        x_val_def.append(Xtrain[test])\n",
    "        y_est_def.append(Ytrain[train])\n",
    "        y_val_def.append(Ytrain[test])\n",
    "\n",
    "    x_est_def = np.array(x_est_def)\n",
    "    x_val_def = np.array(x_val_def)\n",
    "    y_est_def = np.array(y_est_def)\n",
    "    y_val_def = np.array(y_val_def)\n",
    "    return x_est_def, x_val_def, y_est_def, y_val_def\n"
   ]
  },
  {
   "cell_type": "code",
   "execution_count": 140,
   "metadata": {},
   "outputs": [
    {
     "name": "stdout",
     "output_type": "stream",
     "text": [
      "(35000, 60) (35000,)\n"
     ]
    }
   ],
   "source": [
    "# Encode Output Lables to a single value\n",
    "out_labels = encode_output_labels(output_labels=output_labels)\n",
    "\n",
    "# Generate Data for Training Unknown Class Nc+1\n",
    "unknown_class_data, unknown_class_labels = generate_unknown_class_data(entries=10000)\n",
    "\n",
    "# Merge Actual and Generated Class Nc+1 Training Data and\n",
    "train_data = np.concatenate((train_data, unknown_class_data))\n",
    "out_labels = np.concatenate((out_labels, unknown_class_labels))\n",
    "\n",
    "print(train_data.shape, out_labels.shape)"
   ]
  },
  {
   "cell_type": "code",
   "execution_count": 141,
   "metadata": {},
   "outputs": [
    {
     "name": "stdout",
     "output_type": "stream",
     "text": [
      "(5, 800, 60) (5, 200, 60) (5, 800) (5, 200)\n"
     ]
    }
   ],
   "source": [
    "x_train_def, x_test_def, y_train_def, y_test_def = train_test_split(train_data, out_labels,\n",
    "                                                                   test_size=0.33,\n",
    "                                                                   shuffle=True)\n",
    "x_train_def = x_train_def[:1000]\n",
    "x_test_def = x_test_def[:1000]\n",
    "y_train_def = y_train_def[:1000]\n",
    "y_test_def = y_test_def[:1000]\n",
    "\n",
    "x_est_def, x_val_def, y_est_def, y_val_def = K_Fold_Seperation(x_train_def, y_train_def, 5)\n",
    "print(x_est_def.shape, x_val_def.shape, y_est_def.shape, y_val_def.shape)"
   ]
  },
  {
   "cell_type": "code",
   "execution_count": 142,
   "metadata": {},
   "outputs": [],
   "source": [
    "svm_parameters = {'kernel':('linear','rbf'), 'gamma':[0.125, 0.25, 0.5 ,1, 2, 4], 'decision_function_shape':['ovo','ovr']}\n",
    "def svm_classify(x_train, y_train,\n",
    "                 svm_parameters, Nf):\n",
    "    \"\"\"Trains a Support Vector Machine Classifer\"\"\"\n",
    "    # Create Model with passed hyperparameters\n",
    "    svc = SVC()\n",
    "    cvsvm = GridSearchCV(svc, svm_parameters, cv=Nf)\n",
    "    \n",
    "    # Train Model \n",
    "    cvsvm.fit(x_train,y_train)\n",
    "    \n",
    "    # Return Trained Model and Accuracy on Test Data\n",
    "    return cvsvm\n",
    "\n",
    "\n",
    "rvm_parameters = {'kernel':('linear', 'rbf'), 'n_iter':[90, 100]}\n",
    "def rvm_classify(x_train,y_train,\n",
    "                 rvm_parameters, Nf):\n",
    "    \"\"\"Trains a Relevance Vector Machine Classifier\"\"\"\n",
    "    \n",
    "    rvm = RVC()\n",
    "    cvrvm = GridSearchCV(rvm, rvm_parameters, cv=Nf)\n",
    "    \n",
    "    # Train Model \n",
    "    cvrvm.fit(x_train,y_train)    \n",
    "    \n",
    "    # Return Trained Model and Accuracy on Test Data\n",
    "    return cvrvm\n",
    "\n",
    "\n",
    "gp_parameters = {'n_restarts_optimizer':[0,1], 'max_iter_predict':[80, 90, 100], 'warm_start':('True','False'),\n",
    "                'multi_class':('one_vs_rest','one_vs_one')}\n",
    "def gp_classify(x_train,y_train,\n",
    "                gp_parameters, Nf):\n",
    "    \"\"\"Trains a Gaussian Process Classifier\"\"\"\n",
    "    \n",
    "    gpc = GaussianProcessClassifier()\n",
    "    cvgpc = GridSearchCV(gpc, gp_parameters, cv=Nf)\n",
    "    \n",
    "    # Train Model \n",
    "    cvgpc.fit(x_train, y_train)\n",
    "    \n",
    "    y_pred = cvgpc.predict(x_train)\n",
    "    print('The Predicted Labels are: ')\n",
    "    print(y_pred)\n",
    "\n",
    "    # Return Trained Model and Accuracy on Test Data\n",
    "    return cvgpc"
   ]
  },
  {
   "cell_type": "code",
   "execution_count": 143,
   "metadata": {},
   "outputs": [],
   "source": [
    "def MyCrossValidate(XTrain, YTrain, Nf):\n",
    "    cvsvm = svm_classify(XTrain, YTrain, svm_parameters, Nf)\n",
    "    print('The parameters of the best SVM model are: ')\n",
    "    print(cvsvm.best_params_)\n",
    "    \n",
    "    SVMEstConfMat = []\n",
    "    for i in range(x_val_def.shape[0]):\n",
    "        temp_pred = cvsvm.predict(x_val_def[i])\n",
    "        temp_conf = confusion_matrix(temp_pred, y_val_def[i])\n",
    "        print('The Confusion Matrix For Fold %d is: ' % i)\n",
    "        print(temp_conf)\n",
    "        SVMEstConfMat.append(temp_conf)\n",
    "    SVMEstConfMat = np.array(SVMEstConfMat)\n",
    "    \n",
    "    y_pred = cvsvm.predict(XTrain)\n",
    "    SVMConfMatrix = confusion_matrix(YTrain, y_pred)\n",
    "    print('The Overall Confusion Matrix is: ')\n",
    "    print(SVMConfMatrix)\n",
    "\n",
    "    #cvrvm = rvm_classify(x_train_def, y_train_def, x_test_def, y_test_def, rvm_parameters)\n",
    "    #print('The parameters of the best RVM model are: ')\n",
    "    #print(cvrvm.best_params_)\n",
    "\n",
    "    #cvgpc = gp_classify(x_train_def, y_train_def, x_test_def, y_test_def, gp_parameters)\n",
    "    #print('The parameters of the best GP model are: ')\n",
    "    #print(cvgpc.best_params_)\n",
    "    \n",
    "    #return cvsvm.best_params_,cvrvm.best_params_,cvgpc.best_params_\n",
    "    #return cvsvm.best_params_,cvgpc.best_params_\n",
    "    return cvsvm.best_params_\n"
   ]
  },
  {
   "cell_type": "code",
   "execution_count": 144,
   "metadata": {},
   "outputs": [
    {
     "name": "stdout",
     "output_type": "stream",
     "text": [
      "The parameters of the best SVM model are: \n",
      "{'decision_function_shape': 'ovo', 'gamma': 0.5, 'kernel': 'rbf'}\n",
      "The Confusion Matrix For Fold 0 is: \n",
      "[[29  1  2  0  0  0]\n",
      " [ 0 29  0  0  0  0]\n",
      " [ 0  0 25  0  0  0]\n",
      " [ 0  3  0 25  0  0]\n",
      " [ 0  0  0  0 34  0]\n",
      " [ 0  0  0  0  0 52]]\n",
      "The Confusion Matrix For Fold 1 is: \n",
      "[[29  0  0  0  2  0]\n",
      " [ 0 25  0  2  0  0]\n",
      " [ 0  0 25  0  0  0]\n",
      " [ 0  2  1 26  1  0]\n",
      " [ 0  0  0  0 31  0]\n",
      " [ 0  0  0  0  0 56]]\n",
      "The Confusion Matrix For Fold 2 is: \n",
      "[[28  1  0  0  0  0]\n",
      " [ 0 22  0  1  0  0]\n",
      " [ 0  0 22  1  1  0]\n",
      " [ 0  2  1 28  0  0]\n",
      " [ 1  0  0  1 30  0]\n",
      " [ 0  0  0  0  0 61]]\n",
      "The Confusion Matrix For Fold 3 is: \n",
      "[[26  1  0  0  0  0]\n",
      " [ 0 18  1  0  0  0]\n",
      " [ 0  0 29  0  0  0]\n",
      " [ 0  2  1 35  1  0]\n",
      " [ 0  0  0  0 26  0]\n",
      " [ 0  0  0  0  0 60]]\n",
      "The Confusion Matrix For Fold 4 is: \n",
      "[[29  1  0  0  0  0]\n",
      " [ 0 32  0  0  0  0]\n",
      " [ 0  0 29  0  1  0]\n",
      " [ 0  0  0 29  1  0]\n",
      " [ 0  0  2  0 23  0]\n",
      " [ 0  0  0  0  0 53]]\n",
      "The Overall Confusion Matrix is: \n",
      "[[141   0   0   0   1   0]\n",
      " [  4 126   0   9   0   0]\n",
      " [  2   1 130   3   2   0]\n",
      " [  0   3   1 143   1   0]\n",
      " [  2   0   2   3 144   0]\n",
      " [  0   0   0   0   0 282]]\n"
     ]
    }
   ],
   "source": [
    "#svm_best_params, rvm_best_params, gp_best_params = MyCrossValidate(x_train_def, y_train_def, 5)\n",
    "#svm_best_params, gp_best_params = MyCrossValidate(x_train_def, y_train_def, 5)\n",
    "svm_best_params = MyCrossValidate(x_train_def, y_train_def, 5)"
   ]
  },
  {
   "cell_type": "code",
   "execution_count": null,
   "metadata": {},
   "outputs": [],
   "source": []
  },
  {
   "cell_type": "code",
   "execution_count": null,
   "metadata": {},
   "outputs": [],
   "source": []
  },
  {
   "cell_type": "code",
   "execution_count": null,
   "metadata": {},
   "outputs": [],
   "source": []
  }
 ],
 "metadata": {
  "kernelspec": {
   "display_name": "Python 3",
   "language": "python",
   "name": "python3"
  },
  "language_info": {
   "codemirror_mode": {
    "name": "ipython",
    "version": 3
   },
   "file_extension": ".py",
   "mimetype": "text/x-python",
   "name": "python",
   "nbconvert_exporter": "python",
   "pygments_lexer": "ipython3",
   "version": "3.6.5"
  }
 },
 "nbformat": 4,
 "nbformat_minor": 1
}
